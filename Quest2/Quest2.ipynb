{
  "cells": [
    {
      "attachments": {},
      "cell_type": "markdown",
      "metadata": {
        "colab_type": "text",
        "id": "view-in-github"
      },
      "source": [
        "<a href=\"https://colab.research.google.com/github/parkmicheal1114/aiffel_cr4/blob/master/Quest2.ipynb\" target=\"_parent\"><img src=\"https://colab.research.google.com/assets/colab-badge.svg\" alt=\"Open In Colab\"/></a>"
      ]
    },
    {
      "attachments": {},
      "cell_type": "markdown",
      "metadata": {
        "id": "fND7Y-Je9Ehp"
      },
      "source": [
        "* 2차원 리스트란? : https://dojang.io/mod/page/view.php?id=2291\n",
        "\n",
        "다음은 ColabTurtle을 사용하여 미로를 찾는 문제다.\n",
        "조건을 확인하여 거북이가 미로를 헤매지 않도록 출구를 찾아주자!\n",
        "\n",
        "조건 :\n",
        "미로는 5x5의 2차원 리스트로 주어져 있다.\n",
        "\n",
        "시작 위치는 (0,0)이고 목적지 위치는 (4,4)이다.\n",
        "\n",
        "터틀은 상하좌우로 움직일 수 있다.\n",
        "\n",
        "미로 내에서 갈 수 있는 길은 0으로 표시되어 있다.\n",
        "\n",
        "터틀이 이미 지나간 길은 2로 표시해야한다.\n",
        "\n",
        "거북이가 미로를 찾아 나가면 \"미로를 찾았습니다.\", \n",
        "\n",
        "미로를 찾을 수 없으면 \"미로를 찾을 수 없습니다.\"가 나올 수 있도록 만들어보자!\n",
        "\n",
        "---\n",
        "입력값 :\n",
        "\n",
        "```\n",
        "# 5x5 2차원 미로 리스트\n",
        "maze = [\n",
        "    [0, 1, 0, 0, 0],\n",
        "    [0, 0, 0, 1, 0],\n",
        "    [0, 1, 1, 0, 0],\n",
        "    [0, 0, 1, 1, 0],\n",
        "    [0, 0, 0, 0, 0]\n",
        "]\n",
        "```\n",
        "\n",
        "출력값 :"
      ]
    },
    {
      "cell_type": "code",
      "execution_count": 26,
      "metadata": {
        "colab": {
          "base_uri": "https://localhost:8080/"
        },
        "id": "DSn4R-G16H9E",
        "outputId": "48c0d773-a91b-4992-88ea-fca0fd056937"
      },
      "outputs": [
        {
          "name": "stdout",
          "output_type": "stream",
          "text": [
            "Defaulting to user installation because normal site-packages is not writeable\n",
            "Requirement already satisfied: ColabTurtlePlus in c:\\users\\jungeun\\appdata\\roaming\\python\\python311\\site-packages (2.0.1)\n"
          ]
        },
        {
          "name": "stderr",
          "output_type": "stream",
          "text": [
            "\n",
            "[notice] A new release of pip available: 22.3.1 -> 23.1.2\n",
            "[notice] To update, run: python.exe -m pip install --upgrade pip\n"
          ]
        }
      ],
      "source": [
        "!pip install ColabTurtlePlus"
      ]
    },
    {
      "cell_type": "code",
      "execution_count": 27,
      "metadata": {
        "colab": {
          "base_uri": "https://localhost:8080/"
        },
        "id": "UQvOQ1Ym6YKZ",
        "outputId": "9e7d2885-890b-42a2-c522-7cabf056b9cf"
      },
      "outputs": [],
      "source": [
        "from ColabTurtlePlus.Turtle import *"
      ]
    },
    {
      "cell_type": "code",
      "execution_count": 29,
      "metadata": {
        "colab": {
          "base_uri": "https://localhost:8080/",
          "height": 271
        },
        "id": "0o0VtMN-7C2Z",
        "outputId": "7c26507b-59fd-41e6-b84a-412658a3a3e1"
      },
      "outputs": [
        {
          "name": "stdout",
          "output_type": "stream",
          "text": [
            "7 5\n"
          ]
        }
      ],
      "source": [
        "import pprint\n",
        "\n",
        "maze = [\n",
        "    [0, 1, 1, 0, 0],\n",
        "    [0, 0, 0, 1, 0],\n",
        "    [0, 1, 0, 0, 1],\n",
        "    [0, 0, 1, 0, 1],\n",
        "    [0, 0, 0, 0, 1],\n",
        "    [0, 0, 0, 1, 0],\n",
        "    [0, 0, 0, 0, 0]\n",
        "]\n",
        "\n",
        "turtles()\n",
        "setup(250, 250)\n",
        "clear()\n",
        "\n",
        "print(len(maze), len(maze[0]))\n",
        "hor, ver = len(maze), len(maze[0])\n",
        "\n",
        "\n",
        "def solve_maze(x, y): \n",
        "  solved_maze = maze\n",
        "  while True:\n",
        "    if 0 <= y < (ver - 1) and solved_maze[x][y+1] == 0:\n",
        "      solved_maze[x][y] = 2\n",
        "      y += 1\n",
        "      forward(20)\n",
        "    elif 0 <= x < (hor - 1) and solved_maze[x+1][y] == 0:\n",
        "      solved_maze[x][y] = 2\n",
        "      x += 1\n",
        "      right(90)\n",
        "      forward(20)\n",
        "      left(90)\n",
        "    elif 0 < x < (hor - 1) and solved_maze[x-1][y] == 0:\n",
        "      solved_maze[x][y] = 2\n",
        "      x -= 1\n",
        "      left(90)\n",
        "      forward(20)\n",
        "      right(90)\n",
        "    elif 0 < y < (ver - 1) and solved_maze[x][y-1] == 0:\n",
        "      solved_maze[x][y] = 2\n",
        "      y -= 1\n",
        "      left(180)\n",
        "      forward(20)\n",
        "      right(180)\n",
        "    else:\n",
        "      print(\"미로를 찾을 수 없습니다\")\n",
        "      pprint.pprint(solved_maze)\n",
        "      break\n",
        "    # pprint.pprint(solve_maze)\n",
        "    # print(x, y)\n",
        "\n",
        "    if x == hor - 1 and y == ver - 1:\n",
        "      solved_maze[x][y] = 2\n",
        "      print(\"미로를 찾았습니다\")\n",
        "      pprint.pprint(solved_maze)\n",
        "      break\n"
      ]
    },
    {
      "cell_type": "code",
      "execution_count": 30,
      "metadata": {
        "colab": {
          "base_uri": "https://localhost:8080/",
          "height": 379
        },
        "id": "XMCm-ZFMQHrP",
        "outputId": "44f99ba7-8459-473a-e336-2bf805f2b8d5"
      },
      "outputs": [
        {
          "name": "stdout",
          "output_type": "stream",
          "text": [
            "미로를 찾았습니다\n",
            "[[2, 1, 1, 0, 0],\n",
            " [2, 2, 2, 1, 0],\n",
            " [0, 1, 2, 2, 1],\n",
            " [0, 0, 1, 2, 1],\n",
            " [0, 0, 2, 2, 1],\n",
            " [0, 0, 2, 1, 0],\n",
            " [0, 0, 2, 2, 2]]\n"
          ]
        }
      ],
      "source": [
        "# 시작 위치에서 미로 찾기 시작\n",
        "start_x, start_y = 0, 0\n",
        "goto(start_x, start_y)\n",
        "solve_maze(start_x, start_y)"
      ]
    },
    {
      "attachments": {},
      "cell_type": "markdown",
      "metadata": {
        "id": "T1AGT_UYI2Dz"
      },
      "source": [
        "# Code Peer Review Templete\n",
        "\n",
        "- 코더 : 차정은 , 김형우\n",
        "- 리뷰어 : 박기용\n",
        "\n",
        "---\n",
        "\n",
        "# PRT(PeerReviewTemplate)\n",
        "\n",
        "각 항목을 스스로 확인하고 체크하고 확인하여 작성한 코드에 적용하세요.\n",
        "\n",
        "- [v] 코드가 정상적으로 동작하고 주어진 문제를 해결했나요?\n",
        "- [v] 주석을 보고 작성자의 코드가 이해되었나요?\n",
        "- [v] 코드가 에러를 유발할 가능성이 있나요?\n",
        "- [v] 코드 작성자가 코드를 제대로 이해하고 작성했나요? (직접 인터뷰해보기)\n",
        "- [v] 코드가 간결한가요?\n",
        "\n",
        "---\n",
        "\n",
        "# 예시\n",
        "\n",
        "1. 코드의 작동 방식을 주석으로 기록합니다.\n",
        "\n",
        "2. 코드의 작동 방식에 대한 개선 방법을 주석으로 기록합니다.\n",
        "\n",
        "3. 참고한 링크 및 ChatGPT 프롬프트 명령어가 있다면 주석으로 남겨주세요.\n",
        "   \n",
        "```python\n",
        "import pprint\n",
        "\n",
        "maze = [\n",
        "    [0, 1, 0, 0, 0],\n",
        "    [0, 0, 0, 1, 0],\n",
        "    [0, 1, 1, 0, 0],\n",
        "    [0, 0, 1, 1, 0],\n",
        "    [0, 0, 0, 0, 0]\n",
        "]\n",
        "\n",
        "turtles()\n",
        "setup(250, 250)\n",
        "clear()\n",
        "# goto(x, y)\n",
        "\n",
        "# 미로 탈출 함수 \n",
        "def solve_maze(x, y): \n",
        "  solved_maze = maze\n",
        "  while True:\n",
        "    # 이동할 좌표의 가능 여부를 조건 여부로 이동함. \n",
        "    if 0 <= y < 4 and solved_maze[x][y+1] == 0:\n",
        "      solved_maze[x][y] = 2\n",
        "      y += 1\n",
        "      forward(20)\n",
        "    # 이동할 좌표의 가능 여부를 조건 여부로 이동함.( 항상 오른쪽 방향으로 이동)\n",
        "    elif 0 <= x < 4 and solved_maze[x+1][y] == 0:\n",
        "      solved_maze[x][y] = 2\n",
        "      x += 1\n",
        "      right(90)\n",
        "      forward(20)\n",
        "      left(90)\n",
        "    # 이동할 좌표의 가능 여부를 조건 여부로 이동함.( 항상 오른쪽 방향으로 이동)\n",
        "    elif 0 < x < 4 and solved_maze[x-1][y] == 0:\n",
        "      solved_maze[x][y] = 2\n",
        "      x -= 1\n",
        "      left(90)\n",
        "      forward(20)\n",
        "      right(90)\n",
        "    # 이동할 좌표의 가능 여부를 조건 여부로 이동함.( 항상 오른쪽 방향으로 이동)\n",
        "    elif 0 < y < 4 and solved_maze[x][y-1] == 0:\n",
        "      solved_maze[x][y] = 2\n",
        "      y -= 1\n",
        "      left(180)\n",
        "      forward(20)\n",
        "      right(180)\n",
        "    else:\n",
        "      print(\"미로를 찾을 수 없습니다\")\n",
        "    # pprint.pprint(solve_maze)\n",
        "    # print(x, y)\n",
        "\n",
        "    # 목적지를 조건문으로 지정.\n",
        "    if x == 4 and y == 4:\n",
        "      solved_maze[x][y] = 2\n",
        "      print(\"미로를 찾았습니다\")\n",
        "      pprint.pprint(solved_maze)\n",
        "      break\n",
        "   ```\n",
        "\n",
        "---\n",
        "\n",
        "# 참고 링크 및 코드 개선 여부\n",
        "\n",
        "```python\n",
        "# https://blog.naver.com/PostView.nhn?blogId=ytlee64&logNo=222104805578&parentCategoryNo=&categoryNo=37&viewDate=&isShowPopularPosts=true&from=search\n",
        "\n",
        "# 좋은 방법인 것 같습니다. 많이 배워갑니다.\n",
        "```"
      ]
    }
  ],
  "metadata": {
    "colab": {
      "include_colab_link": true,
      "provenance": []
    },
    "kernelspec": {
      "display_name": "Python 3",
      "name": "python3"
    },
    "language_info": {
      "codemirror_mode": {
        "name": "ipython",
        "version": 3
      },
      "file_extension": ".py",
      "mimetype": "text/x-python",
      "name": "python",
      "nbconvert_exporter": "python",
      "pygments_lexer": "ipython3",
      "version": "3.11.3"
    }
  },
  "nbformat": 4,
  "nbformat_minor": 0
}
