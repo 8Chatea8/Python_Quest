{
  "cells": [
    {
      "attachments": {},
      "cell_type": "markdown",
      "metadata": {
        "colab_type": "text",
        "id": "view-in-github"
      },
      "source": [
        "<a href=\"https://colab.research.google.com/github/parkmicheal1114/aiffel_cr4/blob/master/Quest2.ipynb\" target=\"_parent\"><img src=\"https://colab.research.google.com/assets/colab-badge.svg\" alt=\"Open In Colab\"/></a>"
      ]
    },
    {
      "attachments": {},
      "cell_type": "markdown",
      "metadata": {
        "id": "fND7Y-Je9Ehp"
      },
      "source": [
        "* 2차원 리스트란? : https://dojang.io/mod/page/view.php?id=2291\n",
        "\n",
        "다음은 ColabTurtle을 사용하여 미로를 찾는 문제다.\n",
        "조건을 확인하여 거북이가 미로를 헤매지 않도록 출구를 찾아주자!\n",
        "\n",
        "조건 :\n",
        "미로는 5x5의 2차원 리스트로 주어져 있다.\n",
        "\n",
        "시작 위치는 (0,0)이고 목적지 위치는 (4,4)이다.\n",
        "\n",
        "터틀은 상하좌우로 움직일 수 있다.\n",
        "\n",
        "미로 내에서 갈 수 있는 길은 0으로 표시되어 있다.\n",
        "\n",
        "터틀이 이미 지나간 길은 2로 표시해야한다.\n",
        "\n",
        "거북이가 미로를 찾아 나가면 \"미로를 찾았습니다.\", \n",
        "\n",
        "미로를 찾을 수 없으면 \"미로를 찾을 수 없습니다.\"가 나올 수 있도록 만들어보자!\n",
        "\n",
        "---\n",
        "입력값 :\n",
        "\n",
        "```\n",
        "# 5x5 2차원 미로 리스트\n",
        "maze = [\n",
        "    [0, 1, 0, 0, 0],\n",
        "    [0, 0, 0, 1, 0],\n",
        "    [0, 1, 1, 0, 0],\n",
        "    [0, 0, 1, 1, 0],\n",
        "    [0, 0, 0, 0, 0]\n",
        "]\n",
        "```\n",
        "\n",
        "출력값 :"
      ]
    },
    {
      "cell_type": "code",
      "execution_count": 1,
      "metadata": {
        "colab": {
          "base_uri": "https://localhost:8080/"
        },
        "id": "DSn4R-G16H9E",
        "outputId": "48c0d773-a91b-4992-88ea-fca0fd056937"
      },
      "outputs": [
        {
          "name": "stdout",
          "output_type": "stream",
          "text": [
            "Defaulting to user installation because normal site-packages is not writeable\n",
            "Collecting ColabTurtlePlus\n",
            "  Downloading ColabTurtlePlus-2.0.1-py3-none-any.whl (31 kB)\n",
            "Installing collected packages: ColabTurtlePlus\n",
            "Successfully installed ColabTurtlePlus-2.0.1\n"
          ]
        },
        {
          "name": "stderr",
          "output_type": "stream",
          "text": [
            "\n",
            "[notice] A new release of pip available: 22.3.1 -> 23.1.2\n",
            "[notice] To update, run: python.exe -m pip install --upgrade pip\n"
          ]
        }
      ],
      "source": [
        "!pip install ColabTurtlePlus"
      ]
    },
    {
      "cell_type": "code",
      "execution_count": 2,
      "metadata": {
        "colab": {
          "base_uri": "https://localhost:8080/"
        },
        "id": "UQvOQ1Ym6YKZ",
        "outputId": "9e7d2885-890b-42a2-c522-7cabf056b9cf"
      },
      "outputs": [
        {
          "name": "stdout",
          "output_type": "stream",
          "text": [
            "Put clearscreen() as the first line in a cell (after the import command) to re-run turtle commands in the cell\n"
          ]
        }
      ],
      "source": [
        "from ColabTurtlePlus.Turtle import *"
      ]
    },
    {
      "cell_type": "code",
      "execution_count": 3,
      "metadata": {
        "colab": {
          "base_uri": "https://localhost:8080/",
          "height": 271
        },
        "id": "0o0VtMN-7C2Z",
        "outputId": "7c26507b-59fd-41e6-b84a-412658a3a3e1"
      },
      "outputs": [],
      "source": [
        "import pprint\n",
        "\n",
        "maze = [\n",
        "    [0, 1, 0, 0, 0],\n",
        "    [0, 0, 0, 1, 0],\n",
        "    [0, 1, 1, 0, 0],\n",
        "    [0, 0, 1, 1, 0],\n",
        "    [0, 0, 0, 0, 0]\n",
        "]\n",
        "\n",
        "turtles()\n",
        "setup(250, 250)\n",
        "clear()\n",
        "# goto(x, y)\n",
        "\n",
        "def solve_maze(x, y): \n",
        "  solved_maze = maze\n",
        "  while True:\n",
        "    if 0 <= y < 4 and solved_maze[x][y+1] == 0:\n",
        "      solved_maze[x][y] = 2\n",
        "      y += 1\n",
        "      forward(20)\n",
        "    elif 0 <= x < 4 and solved_maze[x+1][y] == 0:\n",
        "      solved_maze[x][y] = 2\n",
        "      x += 1\n",
        "      right(90)\n",
        "      forward(20)\n",
        "      left(90)\n",
        "    elif 0 < x < 4 and solved_maze[x-1][y] == 0:\n",
        "      solved_maze[x][y] = 2\n",
        "      x -= 1\n",
        "      left(90)\n",
        "      forward(20)\n",
        "      right(90)\n",
        "    elif 0 < y < 4 and solved_maze[x][y-1] == 0:\n",
        "      solved_maze[x][y] = 2\n",
        "      y -= 1\n",
        "      left(180)\n",
        "      forward(20)\n",
        "      right(180)\n",
        "    else:\n",
        "      print(\"미로를 찾을 수 없습니다\")\n",
        "      break\n",
        "    # pprint.pprint(solve_maze)\n",
        "    # print(x, y)\n",
        "\n",
        "    if x == 4 and y == 4:\n",
        "      solved_maze[x][y] = 2\n",
        "      print(\"미로를 찾았습니다\")\n",
        "      pprint.pprint(solved_maze)\n",
        "      break\n"
      ]
    },
    {
      "cell_type": "code",
      "execution_count": 6,
      "metadata": {
        "colab": {
          "base_uri": "https://localhost:8080/",
          "height": 379
        },
        "id": "XMCm-ZFMQHrP",
        "outputId": "44f99ba7-8459-473a-e336-2bf805f2b8d5"
      },
      "outputs": [
        {
          "data": {
            "text/html": [
              "\n",
              "      <svg width=\"250\" height=\"250\">  \n",
              "        <rect width=\"100%\" height=\"100%\" style=\"fill:white;stroke:;stroke-width:1\"/>\n",
              "        \n",
              "        \n",
              "        <line x1=\"125.0\" y1=\"125.0\" x2=\"125.0\" y2=\"125.0\" stroke-linecap=\"round\" style=\"stroke:black;stroke-width:1\" /><line x1=\"125.0\" y1=\"125.0\" x2=\"125.0\" y2=\"145.0\" stroke-linecap=\"round\" style=\"stroke:black;stroke-width:1\" /><line x1=\"125.0\" y1=\"145.0\" x2=\"145.0\" y2=\"145.0\" stroke-linecap=\"round\" style=\"stroke:black;stroke-width:1\" /><line x1=\"145.0\" y1=\"145.0\" x2=\"165.0\" y2=\"145.0\" stroke-linecap=\"round\" style=\"stroke:black;stroke-width:1\" /><line x1=\"165.0\" y1=\"145.0\" x2=\"165.0\" y2=\"125.0\" stroke-linecap=\"round\" style=\"stroke:black;stroke-width:1\" /><line x1=\"165.0\" y1=\"125.0\" x2=\"185.0\" y2=\"125.0\" stroke-linecap=\"round\" style=\"stroke:black;stroke-width:1\" /><line x1=\"185.0\" y1=\"125.0\" x2=\"205.0\" y2=\"125.0\" stroke-linecap=\"round\" style=\"stroke:black;stroke-width:1\" /><line x1=\"205.0\" y1=\"125.0\" x2=\"205.0\" y2=\"145.0\" stroke-linecap=\"round\" style=\"stroke:black;stroke-width:1\" /><line x1=\"205.0\" y1=\"145.0\" x2=\"205.0\" y2=\"165.0\" stroke-linecap=\"round\" style=\"stroke:black;stroke-width:1\" /><line x1=\"205.0\" y1=\"165.0\" x2=\"205.0\" y2=\"185.0\" stroke-linecap=\"round\" style=\"stroke:black;stroke-width:1\" /><line x1=\"205.0\" y1=\"185.0\" x2=\"205.0\" y2=\"205.0\" stroke-linecap=\"round\" style=\"stroke:black;stroke-width:1\" />\n",
              "        \n",
              "        \n",
              "        <g id=\"classic\" visibility=\"visible\" transform=\"rotate(0,205.0,205.0) translate(205.0, 205.0)\">\n",
              "<polygon points=\"-5,-4.5 0,-2.5 5,-4.5 0,4.5\" transform=\"skewX(0) scale(1,1)\" style=\"stroke:black;fill:black;stroke-width:1\" />\n",
              "<animateTransform id = \"one\" attributeName=\"transform\" \n",
              "                      type=\"scale\"\n",
              "                      from=\"1 1\" to=\"1 1\"\n",
              "                      begin=\"0s\" dur=\"0.01s\"\n",
              "                      repeatCount=\"1\"\n",
              "                      additive=\"sum\"\n",
              "                      fill=\"freeze\"\n",
              "                /><animateTransform attributeName=\"transform\"\n",
              "                    type=\"rotate\"\n",
              "                    from=\"0 0 0\" to =\"-90 0 0\"\n",
              "                    begin=\"one.end\" dur=\"0.25s\"\n",
              "                    repeatCount=\"1\"\n",
              "                    additive=\"sum\"\n",
              "                    fill=\"freeze\"\n",
              "                /></g>\n",
              "      </svg>\n",
              "    "
            ],
            "text/plain": [
              "<IPython.core.display.HTML object>"
            ]
          },
          "metadata": {},
          "output_type": "display_data"
        },
        {
          "name": "stdout",
          "output_type": "stream",
          "text": [
            "미로를 찾았습니다\n",
            "[[2, 1, 2, 2, 2],\n",
            " [2, 2, 2, 1, 2],\n",
            " [0, 1, 1, 0, 2],\n",
            " [0, 0, 1, 1, 2],\n",
            " [0, 0, 0, 0, 2]]\n"
          ]
        }
      ],
      "source": [
        "# 시작 위치에서 미로 찾기 시작\n",
        "start_x, start_y = 0, 0\n",
        "goto(start_x, start_y)\n",
        "solve_maze(start_x, start_y)"
      ]
    }
  ],
  "metadata": {
    "colab": {
      "include_colab_link": true,
      "provenance": []
    },
    "kernelspec": {
      "display_name": "Python 3",
      "name": "python3"
    },
    "language_info": {
      "codemirror_mode": {
        "name": "ipython",
        "version": 3
      },
      "file_extension": ".py",
      "mimetype": "text/x-python",
      "name": "python",
      "nbconvert_exporter": "python",
      "pygments_lexer": "ipython3",
      "version": "3.11.3"
    }
  },
  "nbformat": 4,
  "nbformat_minor": 0
}
