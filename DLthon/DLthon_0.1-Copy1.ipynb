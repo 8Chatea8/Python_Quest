{
 "cells": [
  {
   "cell_type": "code",
   "execution_count": 1,
   "id": "069454ec",
   "metadata": {},
   "outputs": [],
   "source": [
    "import numpy as np \n",
    "import pandas as pd \n",
    "import matplotlib.pyplot as plt\n",
    "import seaborn as sns\n",
    "\n",
    "import tensorflow as tf\n",
    "from tensorflow import keras\n",
    "from tensorflow.keras.preprocessing.image import ImageDataGenerator\n",
    "from keras.models import Sequential\n",
    "from tensorflow.keras.layers import Dense, Dropout, Flatten, Conv2D, MaxPooling2D, BatchNormalization\n",
    "from tensorflow.keras import callbacks\n",
    "\n",
    "import zipfile\n",
    "import shutil\n",
    "import os\n"
   ]
  },
  {
   "cell_type": "code",
   "execution_count": 8,
   "id": "c3e633fc",
   "metadata": {},
   "outputs": [
    {
     "name": "stdout",
     "output_type": "stream",
     "text": [
      "test1 unzipped\n",
      "train unzipped\n"
     ]
    }
   ],
   "source": [
    "zip_files = ['test1', 'train']\n",
    "\n",
    "for zip_file in zip_files:\n",
    "    with zipfile.ZipFile(\"/aiffel/aiffel/DLthon/data/{}.zip\".format(zip_file), \"r\") as z:\n",
    "        z.extractall(\".\")\n",
    "        print(\"{} unzipped\".format(zip_file))"
   ]
  },
  {
   "cell_type": "code",
   "execution_count": 10,
   "id": "d14aad9e",
   "metadata": {},
   "outputs": [
    {
     "name": "stdout",
     "output_type": "stream",
     "text": [
      "No. of Train Images: 25000\n",
      "No. of Test Images: 12500\n"
     ]
    }
   ],
   "source": [
    "train_dir = '/aiffel/aiffel/DLthon/train'\n",
    "test_dir  = '/aiffel/aiffel/DLthon/test1'\n",
    "\n",
    "train_file_list = os.listdir(train_dir)\n",
    "test_file_list = os.listdir(test_dir)\n",
    "print('No. of Train Images: {}'.format(len(train_file_list)))\n",
    "print('No. of Test Images: {}'.format(len(test_file_list))) "
   ]
  },
  {
   "cell_type": "code",
   "execution_count": 27,
   "id": "ca0c38ad",
   "metadata": {},
   "outputs": [
    {
     "data": {
      "text/html": [
       "<div>\n",
       "<style scoped>\n",
       "    .dataframe tbody tr th:only-of-type {\n",
       "        vertical-align: middle;\n",
       "    }\n",
       "\n",
       "    .dataframe tbody tr th {\n",
       "        vertical-align: top;\n",
       "    }\n",
       "\n",
       "    .dataframe thead th {\n",
       "        text-align: right;\n",
       "    }\n",
       "</style>\n",
       "<table border=\"1\" class=\"dataframe\">\n",
       "  <thead>\n",
       "    <tr style=\"text-align: right;\">\n",
       "      <th></th>\n",
       "      <th>filename</th>\n",
       "      <th>category</th>\n",
       "    </tr>\n",
       "  </thead>\n",
       "  <tbody>\n",
       "    <tr>\n",
       "      <th>0</th>\n",
       "      <td>cat.1214.jpg</td>\n",
       "      <td>cat</td>\n",
       "    </tr>\n",
       "    <tr>\n",
       "      <th>1</th>\n",
       "      <td>dog.2687.jpg</td>\n",
       "      <td>dog</td>\n",
       "    </tr>\n",
       "    <tr>\n",
       "      <th>2</th>\n",
       "      <td>cat.793.jpg</td>\n",
       "      <td>cat</td>\n",
       "    </tr>\n",
       "    <tr>\n",
       "      <th>3</th>\n",
       "      <td>cat.3978.jpg</td>\n",
       "      <td>cat</td>\n",
       "    </tr>\n",
       "    <tr>\n",
       "      <th>4</th>\n",
       "      <td>cat.6495.jpg</td>\n",
       "      <td>cat</td>\n",
       "    </tr>\n",
       "  </tbody>\n",
       "</table>\n",
       "</div>"
      ],
      "text/plain": [
       "       filename category\n",
       "0  cat.1214.jpg      cat\n",
       "1  dog.2687.jpg      dog\n",
       "2   cat.793.jpg      cat\n",
       "3  cat.3978.jpg      cat\n",
       "4  cat.6495.jpg      cat"
      ]
     },
     "execution_count": 27,
     "metadata": {},
     "output_type": "execute_result"
    }
   ],
   "source": [
    "categories = []\n",
    "for file in train_file_list:\n",
    "    category = file.split('.')[0]\n",
    "    if category == 'dog':\n",
    "        categories.append('dog')\n",
    "    else:\n",
    "        categories.append('cat')\n",
    "        \n",
    "df = pd.DataFrame({\n",
    "    'filename': train_file_list,\n",
    "    'category': categories\n",
    "})\n",
    "df.head()"
   ]
  },
  {
   "cell_type": "code",
   "execution_count": 28,
   "id": "fc6b8775",
   "metadata": {},
   "outputs": [
    {
     "data": {
      "text/plain": [
       "<AxesSubplot:>"
      ]
     },
     "execution_count": 28,
     "metadata": {},
     "output_type": "execute_result"
    },
    {
     "data": {
      "image/png": "[encoded data removed]",
      "text/plain": [
       "<Figure size 432x288 with 1 Axes>"
      ]
     },
     "metadata": {
      "needs_background": "light"
     },
     "output_type": "display_data"
    }
   ],
   "source": [
    "df['category'].value_counts().plot.bar()"
   ]
  },
  {
   "cell_type": "code",
   "execution_count": 29,
   "id": "6fd0ed7a",
   "metadata": {},
   "outputs": [
    {
     "name": "stdout",
     "output_type": "stream",
     "text": [
      "Number of Training images: 20000\n",
      "Number of Validation images: 5000\n"
     ]
    }
   ],
   "source": [
    "from sklearn.model_selection import train_test_split\n",
    "\n",
    "train_df, valid_df = train_test_split(df, test_size = 0.2)\n",
    "\n",
    "train_images = train_df.shape[0]\n",
    "valid_images = valid_df.shape[0]\n",
    "\n",
    "print(f'Number of Training images: {train_images}')\n",
    "print(f'Number of Validation images: {valid_images}')"
   ]
  },
  {
   "cell_type": "code",
   "execution_count": 30,
   "id": "a348baa6",
   "metadata": {},
   "outputs": [
    {
     "data": {
      "text/plain": [
       "<AxesSubplot:xlabel='category', ylabel='count'>"
      ]
     },
     "execution_count": 30,
     "metadata": {},
     "output_type": "execute_result"
    },
    {
     "data": {
      "image/png": "[encoded data removed]",
      "text/plain": [
       "<Figure size 432x288 with 1 Axes>"
      ]
     },
     "metadata": {
      "needs_background": "light"
     },
     "output_type": "display_data"
    }
   ],
   "source": [
    "sns.countplot(x=train_df['category'])"
   ]
  },
  {
   "cell_type": "code",
   "execution_count": 31,
   "id": "b697120e",
   "metadata": {},
   "outputs": [
    {
     "data": {
      "text/plain": [
       "<AxesSubplot:xlabel='category', ylabel='count'>"
      ]
     },
     "execution_count": 31,
     "metadata": {},
     "output_type": "execute_result"
    },
    {
     "data": {
      "image/png": "[encoded data removed]",
      "text/plain": [
       "<Figure size 432x288 with 1 Axes>"
      ]
     },
     "metadata": {
      "needs_background": "light"
     },
     "output_type": "display_data"
    }
   ],
   "source": [
    "sns.countplot(x=valid_df['category'])"
   ]
  },
  {
   "cell_type": "code",
   "execution_count": 33,
   "id": "7181ca95",
   "metadata": {},
   "outputs": [
    {
     "name": "stdout",
     "output_type": "stream",
     "text": [
      "Found 20000 validated image filenames belonging to 2 classes.\n",
      "Found 5000 validated image filenames belonging to 2 classes.\n"
     ]
    }
   ],
   "source": [
    "IMG_SIZE = 224\n",
    "BATCH_SIZE = 32\n",
    "\n",
    "train_data_gen = ImageDataGenerator(rescale = 1./255)\n",
    "\n",
    "train_data = train_data_gen.flow_from_dataframe(train_df, train_dir,\n",
    "                                               x_col = 'filename',\n",
    "                                               y_col = 'category',\n",
    "                                               target_size = (IMG_SIZE, IMG_SIZE),\n",
    "                                               batch_size = BATCH_SIZE,\n",
    "                                               class_mode = 'binary')\n",
    "\n",
    "validation_data = train_data_gen.flow_from_dataframe(valid_df, train_dir,\n",
    "                                                    x_col = 'filename',\n",
    "                                                    y_col = 'category',\n",
    "                                                    target_size = (IMG_SIZE, IMG_SIZE),\n",
    "                                                    batch_size = BATCH_SIZE,\n",
    "                                                    class_mode = 'binary')"
   ]
  },
  {
   "cell_type": "markdown",
   "id": "4221c4f9",
   "metadata": {},
   "source": [
    "## 모델 준비와 학습"
   ]
  },
  {
   "cell_type": "code",
   "execution_count": 34,
   "id": "ca8caf74",
   "metadata": {},
   "outputs": [],
   "source": [
    "callbacks_list = [callbacks.EarlyStopping(monitor='val_loss', \n",
    "                                          patience=5,\n",
    "                                         restore_best_weights=True),\n",
    "                 callbacks.ReduceLROnPlateau(monitor='val_loss',\n",
    "                                            patience=3,\n",
    "                                            factor=0.2,\n",
    "                                            min_lr=0.00001)]"
   ]
  },
  {
   "cell_type": "code",
   "execution_count": 36,
   "id": "2e9b3637",
   "metadata": {},
   "outputs": [
    {
     "name": "stdout",
     "output_type": "stream",
     "text": [
      "Downloading data from https://storage.googleapis.com/tensorflow/keras-applications/resnet/resnet50v2_weights_tf_dim_ordering_tf_kernels_notop.h5\n",
      "94674944/94668760 [==============================] - 0s 0us/step\n",
      "94683136/94668760 [==============================] - 0s 0us/step\n",
      "Model: \"sequential\"\n",
      "_________________________________________________________________\n",
      "Layer (type)                 Output Shape              Param #   \n",
      "=================================================================\n",
      "resnet50v2 (Functional)      (None, 7, 7, 2048)        23564800  \n",
      "_________________________________________________________________\n",
      "flatten (Flatten)            (None, 100352)            0         \n",
      "_________________________________________________________________\n",
      "dense (Dense)                (None, 512)               51380736  \n",
      "_________________________________________________________________\n",
      "dropout (Dropout)            (None, 512)               0         \n",
      "_________________________________________________________________\n",
      "dense_1 (Dense)              (None, 1)                 513       \n",
      "=================================================================\n",
      "Total params: 74,946,049\n",
      "Trainable params: 51,381,249\n",
      "Non-trainable params: 23,564,800\n",
      "_________________________________________________________________\n"
     ]
    }
   ],
   "source": [
    "resnet = tf.keras.applications.ResNet50V2(\n",
    "            include_top=False,\n",
    "            weights=\"imagenet\",\n",
    "            input_shape=(IMG_SIZE, IMG_SIZE, 3))\n",
    "resnet.trainable = False\n",
    "resnet_model = Sequential([resnet,\n",
    "                         Flatten(),\n",
    "                         Dense(512, activation = 'relu'),\n",
    "                         Dropout(0.2),\n",
    "                         Dense(1, activation = 'sigmoid')])\n",
    "\n",
    "resnet_model.compile(optimizer='Adam',\n",
    "                    loss='binary_crossentropy',\n",
    "                    metrics = ['accuracy'])\n",
    "\n",
    "resnet_model.summary()"
   ]
  },
  {
   "cell_type": "code",
   "execution_count": 38,
   "id": "9b06b85e",
   "metadata": {},
   "outputs": [
    {
     "name": "stdout",
     "output_type": "stream",
     "text": [
      "Epoch 1/50\n",
      "625/625 [==============================] - 123s 133ms/step - loss: 0.7192 - accuracy: 0.9741 - val_loss: 0.0741 - val_accuracy: 0.9820\n",
      "Epoch 2/50\n",
      "625/625 [==============================] - 81s 129ms/step - loss: 0.0343 - accuracy: 0.9905 - val_loss: 0.0761 - val_accuracy: 0.9832\n",
      "Epoch 3/50\n",
      "625/625 [==============================] - 81s 129ms/step - loss: 0.0189 - accuracy: 0.9949 - val_loss: 0.0684 - val_accuracy: 0.9860\n",
      "Epoch 4/50\n",
      "625/625 [==============================] - 82s 132ms/step - loss: 0.0088 - accuracy: 0.9976 - val_loss: 0.0901 - val_accuracy: 0.9862\n",
      "Epoch 5/50\n",
      "625/625 [==============================] - 81s 130ms/step - loss: 0.0217 - accuracy: 0.9961 - val_loss: 0.1488 - val_accuracy: 0.9828\n",
      "Epoch 6/50\n",
      "625/625 [==============================] - 82s 131ms/step - loss: 0.0441 - accuracy: 0.9939 - val_loss: 0.1819 - val_accuracy: 0.9792\n",
      "Epoch 7/50\n",
      "625/625 [==============================] - 82s 131ms/step - loss: 0.0166 - accuracy: 0.9969 - val_loss: 0.0842 - val_accuracy: 0.9862\n",
      "Epoch 8/50\n",
      "625/625 [==============================] - 82s 131ms/step - loss: 0.0069 - accuracy: 0.9987 - val_loss: 0.0746 - val_accuracy: 0.9862\n"
     ]
    }
   ],
   "source": [
    "resnet_history = resnet_model.fit(train_data,\n",
    "                   epochs = 50,\n",
    "                   validation_data = validation_data,\n",
    "                    callbacks=callbacks_list)"
   ]
  },
  {
   "cell_type": "code",
   "execution_count": 39,
   "id": "7f93f7f9",
   "metadata": {},
   "outputs": [],
   "source": [
    "def plot_show(history):\n",
    "    fig, ax = plt.subplots(2, 1, figsize= (10, 8))\n",
    "    \n",
    "    Epochs =range(len(history.history['loss']))\n",
    "    \n",
    "    sns.lineplot(x = Epochs, y = history.history['val_loss'], label='validation loss', ax=ax[0])\n",
    "    sns.lineplot(x = Epochs, y = history.history['loss'], label = 'training loss', ax=ax[0])\n",
    "    ax[0].set_title('loss')\n",
    "    \n",
    "    sns.lineplot(x = Epochs, y = history.history['val_accuracy'], label='validation accuracy', ax=ax[1])\n",
    "    sns.lineplot(x = Epochs, y = history.history['accuracy'], label='training accuracy', ax=ax[1])\n",
    "    ax[1].set_title('accuracy')\n",
    "    \n",
    "    plt.legend()\n",
    "    plt.show()"
   ]
  },
  {
   "cell_type": "code",
   "execution_count": 40,
   "id": "e4c94370",
   "metadata": {},
   "outputs": [
    {
     "data": {
      "image/png": "[encoded data removed]",
      "text/plain": [
       "<Figure size 720x576 with 2 Axes>"
      ]
     },
     "metadata": {
      "needs_background": "light"
     },
     "output_type": "display_data"
    }
   ],
   "source": [
    "plot_show(resnet_history)"
   ]
  },
  {
   "cell_type": "code",
   "execution_count": 41,
   "id": "60d51798",
   "metadata": {},
   "outputs": [
    {
     "name": "stdout",
     "output_type": "stream",
     "text": [
      "Found 12500 validated image filenames.\n"
     ]
    }
   ],
   "source": [
    "test_df = pd.DataFrame({'filename': test_file_list})\n",
    "\n",
    "test_data_gen = ImageDataGenerator(rescale = 1./255)\n",
    "\n",
    "test_data = test_data_gen.flow_from_dataframe(test_df, test_dir,\n",
    "                                             x_col = 'filename',\n",
    "                                             y_col = None,\n",
    "                                             class_mode = None,\n",
    "                                             target_size = (IMG_SIZE, IMG_SIZE),\n",
    "                                             shuffle = False)\n"
   ]
  },
  {
   "cell_type": "code",
   "execution_count": 42,
   "id": "33bb9db1",
   "metadata": {},
   "outputs": [],
   "source": [
    "res_pred = resnet_model.predict(test_data)"
   ]
  },
  {
   "cell_type": "code",
   "execution_count": 46,
   "id": "c03dd164",
   "metadata": {},
   "outputs": [
    {
     "data": {
      "text/html": [
       "<div>\n",
       "<style scoped>\n",
       "    .dataframe tbody tr th:only-of-type {\n",
       "        vertical-align: middle;\n",
       "    }\n",
       "\n",
       "    .dataframe tbody tr th {\n",
       "        vertical-align: top;\n",
       "    }\n",
       "\n",
       "    .dataframe thead th {\n",
       "        text-align: right;\n",
       "    }\n",
       "</style>\n",
       "<table border=\"1\" class=\"dataframe\">\n",
       "  <thead>\n",
       "    <tr style=\"text-align: right;\">\n",
       "      <th></th>\n",
       "      <th>id</th>\n",
       "      <th>label</th>\n",
       "      <th>pred</th>\n",
       "    </tr>\n",
       "  </thead>\n",
       "  <tbody>\n",
       "    <tr>\n",
       "      <th>0</th>\n",
       "      <td>1</td>\n",
       "      <td>0</td>\n",
       "      <td>6.980035e-08</td>\n",
       "    </tr>\n",
       "    <tr>\n",
       "      <th>1</th>\n",
       "      <td>2</td>\n",
       "      <td>0</td>\n",
       "      <td>0.000000e+00</td>\n",
       "    </tr>\n",
       "    <tr>\n",
       "      <th>2</th>\n",
       "      <td>3</td>\n",
       "      <td>0</td>\n",
       "      <td>9.999996e-01</td>\n",
       "    </tr>\n",
       "    <tr>\n",
       "      <th>3</th>\n",
       "      <td>4</td>\n",
       "      <td>0</td>\n",
       "      <td>9.999963e-01</td>\n",
       "    </tr>\n",
       "    <tr>\n",
       "      <th>4</th>\n",
       "      <td>5</td>\n",
       "      <td>0</td>\n",
       "      <td>9.999923e-01</td>\n",
       "    </tr>\n",
       "    <tr>\n",
       "      <th>5</th>\n",
       "      <td>6</td>\n",
       "      <td>0</td>\n",
       "      <td>2.527994e-14</td>\n",
       "    </tr>\n",
       "    <tr>\n",
       "      <th>6</th>\n",
       "      <td>7</td>\n",
       "      <td>0</td>\n",
       "      <td>2.245904e-31</td>\n",
       "    </tr>\n",
       "    <tr>\n",
       "      <th>7</th>\n",
       "      <td>8</td>\n",
       "      <td>0</td>\n",
       "      <td>1.525778e-11</td>\n",
       "    </tr>\n",
       "    <tr>\n",
       "      <th>8</th>\n",
       "      <td>9</td>\n",
       "      <td>0</td>\n",
       "      <td>8.629321e-24</td>\n",
       "    </tr>\n",
       "    <tr>\n",
       "      <th>9</th>\n",
       "      <td>10</td>\n",
       "      <td>0</td>\n",
       "      <td>0.000000e+00</td>\n",
       "    </tr>\n",
       "  </tbody>\n",
       "</table>\n",
       "</div>"
      ],
      "text/plain": [
       "   id  label          pred\n",
       "0   1      0  6.980035e-08\n",
       "1   2      0  0.000000e+00\n",
       "2   3      0  9.999996e-01\n",
       "3   4      0  9.999963e-01\n",
       "4   5      0  9.999923e-01\n",
       "5   6      0  2.527994e-14\n",
       "6   7      0  2.245904e-31\n",
       "7   8      0  1.525778e-11\n",
       "8   9      0  8.629321e-24\n",
       "9  10      0  0.000000e+00"
      ]
     },
     "execution_count": 46,
     "metadata": {},
     "output_type": "execute_result"
    }
   ],
   "source": [
    "submission_df = pd.read_csv(\"/aiffel/aiffel/DLthon/data/sampleSubmission.csv\")\n",
    "submission_df['pred'] = res_pred\n",
    "submission_df.head(10)"
   ]
  },
  {
   "cell_type": "code",
   "execution_count": 48,
   "id": "c49be59f",
   "metadata": {},
   "outputs": [
    {
     "data": {
      "text/html": [
       "<div>\n",
       "<style scoped>\n",
       "    .dataframe tbody tr th:only-of-type {\n",
       "        vertical-align: middle;\n",
       "    }\n",
       "\n",
       "    .dataframe tbody tr th {\n",
       "        vertical-align: top;\n",
       "    }\n",
       "\n",
       "    .dataframe thead th {\n",
       "        text-align: right;\n",
       "    }\n",
       "</style>\n",
       "<table border=\"1\" class=\"dataframe\">\n",
       "  <thead>\n",
       "    <tr style=\"text-align: right;\">\n",
       "      <th></th>\n",
       "      <th>id</th>\n",
       "      <th>label</th>\n",
       "      <th>pred</th>\n",
       "    </tr>\n",
       "  </thead>\n",
       "  <tbody>\n",
       "    <tr>\n",
       "      <th>0</th>\n",
       "      <td>1</td>\n",
       "      <td>0</td>\n",
       "      <td>6.980035e-08</td>\n",
       "    </tr>\n",
       "    <tr>\n",
       "      <th>1</th>\n",
       "      <td>2</td>\n",
       "      <td>0</td>\n",
       "      <td>0.000000e+00</td>\n",
       "    </tr>\n",
       "    <tr>\n",
       "      <th>2</th>\n",
       "      <td>3</td>\n",
       "      <td>1</td>\n",
       "      <td>9.999996e-01</td>\n",
       "    </tr>\n",
       "    <tr>\n",
       "      <th>3</th>\n",
       "      <td>4</td>\n",
       "      <td>1</td>\n",
       "      <td>9.999963e-01</td>\n",
       "    </tr>\n",
       "    <tr>\n",
       "      <th>4</th>\n",
       "      <td>5</td>\n",
       "      <td>1</td>\n",
       "      <td>9.999923e-01</td>\n",
       "    </tr>\n",
       "    <tr>\n",
       "      <th>5</th>\n",
       "      <td>6</td>\n",
       "      <td>0</td>\n",
       "      <td>2.527994e-14</td>\n",
       "    </tr>\n",
       "    <tr>\n",
       "      <th>6</th>\n",
       "      <td>7</td>\n",
       "      <td>0</td>\n",
       "      <td>2.245904e-31</td>\n",
       "    </tr>\n",
       "    <tr>\n",
       "      <th>7</th>\n",
       "      <td>8</td>\n",
       "      <td>0</td>\n",
       "      <td>1.525778e-11</td>\n",
       "    </tr>\n",
       "    <tr>\n",
       "      <th>8</th>\n",
       "      <td>9</td>\n",
       "      <td>0</td>\n",
       "      <td>8.629321e-24</td>\n",
       "    </tr>\n",
       "    <tr>\n",
       "      <th>9</th>\n",
       "      <td>10</td>\n",
       "      <td>0</td>\n",
       "      <td>0.000000e+00</td>\n",
       "    </tr>\n",
       "  </tbody>\n",
       "</table>\n",
       "</div>"
      ],
      "text/plain": [
       "   id  label          pred\n",
       "0   1      0  6.980035e-08\n",
       "1   2      0  0.000000e+00\n",
       "2   3      1  9.999996e-01\n",
       "3   4      1  9.999963e-01\n",
       "4   5      1  9.999923e-01\n",
       "5   6      0  2.527994e-14\n",
       "6   7      0  2.245904e-31\n",
       "7   8      0  1.525778e-11\n",
       "8   9      0  8.629321e-24\n",
       "9  10      0  0.000000e+00"
      ]
     },
     "execution_count": 48,
     "metadata": {},
     "output_type": "execute_result"
    }
   ],
   "source": [
    "submission_df['label'] = submission_df['pred'].apply(lambda x: 1 if x > 0.5 else 0)\n",
    "\n",
    "submission_df.head(10)"
   ]
  },
  {
   "cell_type": "code",
   "execution_count": 50,
   "id": "a41b80a2",
   "metadata": {},
   "outputs": [
    {
     "data": {
      "text/html": [
       "<div>\n",
       "<style scoped>\n",
       "    .dataframe tbody tr th:only-of-type {\n",
       "        vertical-align: middle;\n",
       "    }\n",
       "\n",
       "    .dataframe tbody tr th {\n",
       "        vertical-align: top;\n",
       "    }\n",
       "\n",
       "    .dataframe thead th {\n",
       "        text-align: right;\n",
       "    }\n",
       "</style>\n",
       "<table border=\"1\" class=\"dataframe\">\n",
       "  <thead>\n",
       "    <tr style=\"text-align: right;\">\n",
       "      <th></th>\n",
       "      <th>id</th>\n",
       "      <th>label</th>\n",
       "    </tr>\n",
       "  </thead>\n",
       "  <tbody>\n",
       "    <tr>\n",
       "      <th>0</th>\n",
       "      <td>1</td>\n",
       "      <td>0</td>\n",
       "    </tr>\n",
       "    <tr>\n",
       "      <th>1</th>\n",
       "      <td>2</td>\n",
       "      <td>0</td>\n",
       "    </tr>\n",
       "    <tr>\n",
       "      <th>2</th>\n",
       "      <td>3</td>\n",
       "      <td>1</td>\n",
       "    </tr>\n",
       "    <tr>\n",
       "      <th>3</th>\n",
       "      <td>4</td>\n",
       "      <td>1</td>\n",
       "    </tr>\n",
       "    <tr>\n",
       "      <th>4</th>\n",
       "      <td>5</td>\n",
       "      <td>1</td>\n",
       "    </tr>\n",
       "    <tr>\n",
       "      <th>5</th>\n",
       "      <td>6</td>\n",
       "      <td>0</td>\n",
       "    </tr>\n",
       "    <tr>\n",
       "      <th>6</th>\n",
       "      <td>7</td>\n",
       "      <td>0</td>\n",
       "    </tr>\n",
       "    <tr>\n",
       "      <th>7</th>\n",
       "      <td>8</td>\n",
       "      <td>0</td>\n",
       "    </tr>\n",
       "    <tr>\n",
       "      <th>8</th>\n",
       "      <td>9</td>\n",
       "      <td>0</td>\n",
       "    </tr>\n",
       "    <tr>\n",
       "      <th>9</th>\n",
       "      <td>10</td>\n",
       "      <td>0</td>\n",
       "    </tr>\n",
       "  </tbody>\n",
       "</table>\n",
       "</div>"
      ],
      "text/plain": [
       "   id  label\n",
       "0   1      0\n",
       "1   2      0\n",
       "2   3      1\n",
       "3   4      1\n",
       "4   5      1\n",
       "5   6      0\n",
       "6   7      0\n",
       "7   8      0\n",
       "8   9      0\n",
       "9  10      0"
      ]
     },
     "execution_count": 50,
     "metadata": {},
     "output_type": "execute_result"
    }
   ],
   "source": [
    "submission_df = submission_df.drop('pred', axis=1)\n",
    "submission_df.head(10)"
   ]
  },
  {
   "cell_type": "code",
   "execution_count": 52,
   "id": "81eed4cc",
   "metadata": {},
   "outputs": [],
   "source": [
    "submission_df.to_csv('submission.csv', index=False)"
   ]
  },
  {
   "cell_type": "code",
   "execution_count": null,
   "id": "03633add",
   "metadata": {},
   "outputs": [],
   "source": []
  }
 ],
 "metadata": {
  "kernelspec": {
   "display_name": "Python 3 (ipykernel)",
   "language": "python",
   "name": "python3"
  },
  "language_info": {
   "codemirror_mode": {
    "name": "ipython",
    "version": 3
   },
   "file_extension": ".py",
   "mimetype": "text/x-python",
   "name": "python",
   "nbconvert_exporter": "python",
   "pygments_lexer": "ipython3",
   "version": "3.9.7"
  }
 },
 "nbformat": 4,
 "nbformat_minor": 5
}
