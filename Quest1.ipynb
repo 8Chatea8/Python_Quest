{
  "cells": [
    {
      "cell_type": "markdown",
      "metadata": {
        "id": "view-in-github",
        "colab_type": "text"
      },
      "source": [
        "<a href=\"https://colab.research.google.com/github/8Chatea8/aiffel_cr4/blob/master/Quest1.ipynb\" target=\"_parent\"><img src=\"https://colab.research.google.com/assets/colab-badge.svg\" alt=\"Open In Colab\"/></a>"
      ]
    },
    {
      "cell_type": "markdown",
      "metadata": {
        "id": "AK3SFzpmPe2q"
      },
      "source": [
        "[파이썬] 퀘스트: 회문인지 아닌지 확인하는 프로그램\n",
        "\n",
        "난이도: ★☆☆☆☆\n",
        "\n",
        "장르: 자료형, 제어문, 함수\n",
        "\n",
        "---\n",
        "* 회문이란? : 앞에서부터 읽어도 뒤에서부터 읽어도 같은 단어, 구, 문장, 숫자, 혹은 문단\n",
        "\n",
        "입력값으로 \"우성우\"를 넣었을 때 출력값은 아래와 같이 나와야한다.\n",
        "다음 조건을 확인하는 회문 함수를 만들어보자!\n",
        "\n",
        "조건 :\n",
        "단어를 입력받을 수 있게 한다.\n",
        "입력된 단어를 뒤집어서 출력할 수 있게 한다.\n",
        "입력된 단어가 회문이 맞는지 확인하여 출력할 수 있게 한다.\n",
        "자료형, 제어문, 함수를 활용한다.\n",
        "\n",
        "---\n",
        "\n",
        "입력값 : 우성우\n",
        "\n",
        "출력값 : \n",
        "뒤집힌 단어는: 우성우\n",
        "입력된 단어는 회문입니다."
      ]
    },
    {
      "cell_type": "code",
      "source": [
        "def palindrome():\n",
        "\n",
        "  word  = input(\"이름을 입력해 주세요 : \"  )      #단어 입력 받기\n",
        "  reverse_word = \"\"\n",
        "\n",
        "  for i in range(1,len(word)+1):                  #단어의 길이만큼 반복하면서 뒤집은 단어 생성\n",
        "    reverse_word += word[-i]\n",
        "\n",
        "  print(\"뒤집힌 단어는:\",reverse_word)\n",
        "  \n",
        "  if word == reverse_word:                        #뒤집힌 단어와 기존 단어가 일치하는지 판단\n",
        "    print('입력된 단어는 회문입니다.')\n",
        "  else:\n",
        "    print('입력된 단어는 회문이 아닙니다.')"
      ],
      "metadata": {
        "id": "X5Qk8ZHwel8p"
      },
      "execution_count": null,
      "outputs": []
    },
    {
      "cell_type": "code",
      "source": [
        "palindrome()"
      ],
      "metadata": {
        "colab": {
          "base_uri": "https://localhost:8080/"
        },
        "id": "ozttIPm-fxKJ",
        "outputId": "1b4d92b9-44fe-4ba0-e391-acb46ab264e7"
      },
      "execution_count": null,
      "outputs": [
        {
          "output_type": "stream",
          "name": "stdout",
          "text": [
            "이름을 입력해 주세요 : 우영우\n",
            "뒤집힌 단어는: 우영우\n",
            "입력된 단어는 회문입니다.\n"
          ]
        }
      ]
    }
  ],
  "metadata": {
    "colab": {
      "provenance": [],
      "include_colab_link": true
    },
    "kernelspec": {
      "display_name": "Python 3",
      "name": "python3"
    },
    "language_info": {
      "name": "python"
    }
  },
  "nbformat": 4,
  "nbformat_minor": 0
}