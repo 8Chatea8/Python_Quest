{
  "nbformat": 4,
  "nbformat_minor": 0,
  "metadata": {
    "colab": {
      "provenance": [],
      "include_colab_link": true
    },
    "kernelspec": {
      "name": "python3",
      "display_name": "Python 3"
    },
    "language_info": {
      "name": "python"
    }
  },
  "cells": [
    {
      "cell_type": "markdown",
      "metadata": {
        "id": "view-in-github",
        "colab_type": "text"
      },
      "source": [
        "<a href=\"https://colab.research.google.com/github/8Chatea8/Python_Quest/blob/master/Quest3/Quest03_advanced2.ipynb\" target=\"_parent\"><img src=\"https://colab.research.google.com/assets/colab-badge.svg\" alt=\"Open In Colab\"/></a>"
      ]
    },
    {
      "cell_type": "markdown",
      "source": [
        "\n",
        "[파이썬] 퀘스트: Avengers 2-gram\n",
        "\n",
        "난이도: ★★★☆☆\n",
        "\n",
        "장르: 내장함수 String, Collections, n-gram\n",
        "\n",
        "---\n",
        "* N-gram이란? : https://dojang.io/mod/page/view.php?id=2332\n",
        "\n",
        "다음 조건을 확인하여\n",
        "Avengers Script에서 워드 단위의 2-gram을 구하고, \n",
        "Script에서 가장 빈도가 높은 2-gram 페어를 찾아라!\n",
        "\n",
        "조건:\n",
        "1. 06TheAvengers.txt 파일을 사용한다.\n",
        "2. 모든 문자는 소문자로 변환한다.\n",
        "3. 모든 기호는 제거한 후, 2-gram을 구한다.\n",
        "4. \"I am hungry.....very much...\"를 word 단위로 자르면,`[ 'i', 'am', 'hungry', 'very', 'much']` 가 되어야 한다.\n",
        "\n",
        "---\n",
        "```python\n",
        "입력값 :\n",
        "\n",
        "\"06TheAvengers.txt\" 파일을 입력값으로 넣는다.\n",
        "\n",
        "print(max2gram, countdict[max2gram])\n",
        "print(Counter(baglist))\n",
        "\n",
        "출력값 :\n",
        "\n",
        "('it', 's') 68\n",
        "Counter({('it', 's'): 68, ('i', 'm'): 52, ('don', 't'): 43, ...\n",
        "```"
      ],
      "metadata": {
        "id": "eUkGoCEROTgv"
      }
    },
    {
      "cell_type": "code",
      "source": [
        "from google.colab import drive\n",
        "drive.mount('/content/drive')"
      ],
      "metadata": {
        "colab": {
          "base_uri": "https://localhost:8080/"
        },
        "id": "DealnVKTxDN4",
        "outputId": "35b1ce21-5035-4d7f-ef1b-485c5a705b35"
      },
      "execution_count": 2,
      "outputs": [
        {
          "output_type": "stream",
          "name": "stdout",
          "text": [
            "Mounted at /content/drive\n"
          ]
        }
      ]
    },
    {
      "cell_type": "code",
      "source": [
        "import string\n",
        "from collections import Counter\n",
        "\n",
        "with open('/content/drive/MyDrive/aiffel_python_quest/06TheAvengers.txt', 'r') as file:\n",
        "    text = file.readlines()"
      ],
      "metadata": {
        "id": "rkrpSWboXzXc"
      },
      "execution_count": 9,
      "outputs": []
    },
    {
      "cell_type": "code",
      "source": [
        "string.punctuation"
      ],
      "metadata": {
        "colab": {
          "base_uri": "https://localhost:8080/",
          "height": 35
        },
        "id": "rMF9DOvTytIg",
        "outputId": "fe86d3a9-4dba-4722-939e-566013b25bae"
      },
      "execution_count": 17,
      "outputs": [
        {
          "output_type": "execute_result",
          "data": {
            "text/plain": [
              "'!\"#$%&\\'()*+,-./:;<=>?@[\\\\]^_`{|}~'"
            ],
            "application/vnd.google.colaboratory.intrinsic+json": {
              "type": "string"
            }
          },
          "metadata": {},
          "execution_count": 17
        }
      ]
    },
    {
      "cell_type": "code",
      "source": [
        "bigram_list = []\n",
        "\n",
        "switch = ''\n",
        "for i in range(len(string.punctuation)):\n",
        "    switch = switch + ' '\n",
        "\n",
        "table = str.maketrans(string.punctuation, switch)\n",
        "\n",
        "for sen in text:\n",
        "    sen = sen.replace('\\n', ' ')\n",
        "    sen = sen.lower()\n",
        "    sen = sen.translate(table)\n",
        "    splited_sen = sen.split()\n",
        "    bigram_list += list(zip(splited_sen, splited_sen[1:]))"
      ],
      "metadata": {
        "id": "liii_ZHFZBgy"
      },
      "execution_count": 18,
      "outputs": []
    },
    {
      "cell_type": "code",
      "source": [
        "bigram_list"
      ],
      "metadata": {
        "id": "926McYlxg1G1"
      },
      "execution_count": null,
      "outputs": []
    },
    {
      "cell_type": "code",
      "source": [
        "bigram_dict = {}\n",
        "\n",
        "for i, bigram in enumerate(bigram_list):\n",
        "  bigram_dict[i] = bigram\n",
        "\n",
        "most_common = Counter(bigram_dict.values()).most_common()"
      ],
      "metadata": {
        "id": "FEGjxoTAjnq_"
      },
      "execution_count": 22,
      "outputs": []
    },
    {
      "cell_type": "code",
      "source": [
        "most_common"
      ],
      "metadata": {
        "id": "Eh7itIsyz8aK"
      },
      "execution_count": null,
      "outputs": []
    },
    {
      "cell_type": "markdown",
      "source": [
        "창호 퍼실님의 해설 따라하기\n",
        "\n",
        "자연어 처리 전처리 할 때는 원문 내용이 어떤 내용인지도 확인해야함\n",
        "\n",
        "formal한 문서의 경우에는 it is로 쓰는 경우가 많고 it's 로 쓰는 경우는 별로 없을 것 >> 그렇다면 it s로 굳이 구분하는 것이 크게 의미 없을 수도 있음  \n",
        "\n",
        "it's를 its로 받을 건지, it s로 받을 건지는 도메인에 따라 다를 수 있음  \n",
        "\n",
        "어떻게 전처리를 하느냐 고민을 해보자. 전처리에 따라 성능이 달라질 수 있음!"
      ],
      "metadata": {
        "id": "2Pl2TylIkyM4"
      }
    }
  ]
}