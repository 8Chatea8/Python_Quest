{
  "nbformat": 4,
  "nbformat_minor": 0,
  "metadata": {
    "colab": {
      "provenance": [],
      "include_colab_link": true
    },
    "kernelspec": {
      "name": "python3",
      "display_name": "Python 3"
    },
    "language_info": {
      "name": "python"
    }
  },
  "cells": [
    {
      "cell_type": "markdown",
      "metadata": {
        "id": "view-in-github",
        "colab_type": "text"
      },
      "source": [
        "<a href=\"https://colab.research.google.com/github/8Chatea8/Python_Quest/blob/master/Quest4.ipynb\" target=\"_parent\"><img src=\"https://colab.research.google.com/assets/colab-badge.svg\" alt=\"Open In Colab\"/></a>"
      ]
    },
    {
      "cell_type": "markdown",
      "source": [
        "[파이썬] 퀘스트: 물고기들의 움직임을 시뮬레이션하기!\n",
        "\n",
        "난이도: ★★★☆☆\n",
        "\n",
        "장르: 함수, 컴프리헨션, 이터레이터, 제너레이터\n",
        "\n",
        "---\n",
        "\n",
        "다음 조건을 활용하여 물고기가 물 속에서 움직이는 것을 시뮬레이션해보자!\n",
        "\n",
        "조건 :\n",
        "물고기의 움직임을 출력하는 함수를 컴프리헨션과 이터레이터, 제너레이터를 활용해서 만듭니다.  \n",
        "물고기 객체의 움직임을 시뮬레이션하는 클래스를 구현해야 합니다.  \n",
        "물고기 객체는 이름과 속도 속성을 가져야합니다.  \n",
        "물고기 리스트를 활용하셔야합니다.  \n",
        "물고기 객체의 움직임은 랜덤하게 선택된 방향으로 이루어지며, 물고기 객체가 움직이는 동안에는 그 움직임이 출력되어야 합니다.  \n",
        "물고기 객체의 움직임은 일정 시간 간격으로 반복되어야 합니다.  \n",
        "\n",
        "---\n",
        "```python\n",
        "입력값 : \n",
        "\n",
        "# 물고기 리스트\n",
        "fish_list = [\n",
        "    Fish(\"Nemo\", 3),\n",
        "    Fish(\"Dory\", 5),\n",
        "    Fish(\"Marlin\", 7),\n",
        "    Fish(\"Bubbles\", 2),\n",
        "    Fish(\"Gill\", 4)\n",
        "]\n",
        "\n",
        "# 물고기들의 움직임 출력\n",
        "print(\"Using Comprehension:\")\n",
        "show_fish_movement_comprehension(fish_list)\n",
        "\n",
        "print(\"\\nUsing Iterator:\")\n",
        "show_fish_movement_iterator(fish_list)\n",
        "\n",
        "---\n",
        "\n",
        "출력값 :\n",
        "\n",
        "Using Comprehension:\n",
        "Nemo is swimming at 3 m/s\n",
        "Dory is swimming at 5 m/s\n",
        "Marlin is swimming at 7 m/s\n",
        "Bubbles is swimming at 2 m/s\n",
        "Gill is swimming at 4 m/s\n",
        "\n",
        "Using Iterator:\n",
        "Nemo is swimming at 3 m/s\n",
        "Dory is swimming at 5 m/s\n",
        "Marlin is swimming at 7 m/s\n",
        "Bubbles is swimming at 2 m/s\n",
        "Gill is swimming at 4 m/s\n",
        "```"
      ],
      "metadata": {
        "id": "SBiagkGWekY4"
      }
    },
    {
      "cell_type": "code",
      "execution_count": null,
      "metadata": {
        "id": "Nyf79NuGejJS"
      },
      "outputs": [],
      "source": [
        "# Fish 클래스\n",
        "\n",
        "class Fish:\n",
        "  def __init__(self, name, speed):\n",
        "    self.name = name\n",
        "    self.speed = speed\n",
        "  \n",
        "  def movement(self):\n",
        "    print(f\"{self.name} is swimming at {self.speed} m/s\")"
      ]
    },
    {
      "cell_type": "markdown",
      "source": [
        "#컨프리헨션 만들기\n",
        "```python\n",
        "[표현식 for 항목 in iterable if 조건식]\n",
        "```\n"
      ],
      "metadata": {
        "id": "BgrtX2ZWncBL"
      }
    },
    {
      "cell_type": "code",
      "source": [
        "# 컴프리헨션 사용해서 출력하는 함수\n",
        "\n",
        "def show_fish_movement_comprehension(fish_list):\n",
        "  [i.movement() for i in fish_list]"
      ],
      "metadata": {
        "id": "x5lXq--vl12w"
      },
      "execution_count": null,
      "outputs": []
    },
    {
      "cell_type": "markdown",
      "source": [
        "#이터레이터 만들기\n",
        "```python\n",
        "my_list = [1, 2, 3, 4, 5]\n",
        "\n",
        "# 리스트를 이터레이터로 변환\n",
        "my_iterator = iter(my_list)\n",
        "\n",
        "# 이터레이터 사용\n",
        "print(next(my_iterator))  # 1\n",
        "print(next(my_iterator))  # 2\n",
        "print(next(my_iterator))  # 3\n",
        "```"
      ],
      "metadata": {
        "id": "sttT7Pvlrgeo"
      }
    },
    {
      "cell_type": "code",
      "source": [
        "# 이터레이터 사용해서 출력하는 함수\n",
        "\n",
        "def show_fish_movement_iterator(fish_list):\n",
        "  fish_iter = iter(fish_list)\n",
        "  for i in range(len(fish_list)):\n",
        "    fish_iter.__next__().movement()"
      ],
      "metadata": {
        "id": "pe5yhf2sqbwY"
      },
      "execution_count": null,
      "outputs": []
    },
    {
      "cell_type": "code",
      "source": [
        "# 제너레이터 사용해서 출력하는 함수\n",
        "\n",
        "# def show_fish_movement_generator(fish_list):\n",
        "#   (i.movement() for i in fish_list)\n",
        "#   def fish_generator(obj):\n",
        "#     yield obj.movement()\n",
        "#   for i in fish_list:\n",
        "#     fish_generator(i)\n",
        "#     print(fish_generator(i))\n",
        "\n",
        "# def show_fish_movement_generator(fish_list):\n",
        "#     def fish_movement_generator():\n",
        "#         for fish in fish_list:\n",
        "#             yield fish\n",
        "#     fish_movement_generator(fish_list).movement()\n",
        "\n",
        "\n",
        "# show_fish_movement_generator(fish_list)"
      ],
      "metadata": {
        "colab": {
          "base_uri": "https://localhost:8080/",
          "height": 358
        },
        "id": "xBCPHoOPx43O",
        "outputId": "708b9c18-fb9d-43a0-d396-c398ff783f76"
      },
      "execution_count": null,
      "outputs": [
        {
          "output_type": "error",
          "ename": "TypeError",
          "evalue": "ignored",
          "traceback": [
            "\u001b[0;31m---------------------------------------------------------------------------\u001b[0m",
            "\u001b[0;31mTypeError\u001b[0m                                 Traceback (most recent call last)",
            "\u001b[0;32m<ipython-input-45-0ac6bec21e60>\u001b[0m in \u001b[0;36m<cell line: 18>\u001b[0;34m()\u001b[0m\n\u001b[1;32m     16\u001b[0m \u001b[0;34m\u001b[0m\u001b[0m\n\u001b[1;32m     17\u001b[0m \u001b[0;34m\u001b[0m\u001b[0m\n\u001b[0;32m---> 18\u001b[0;31m \u001b[0mshow_fish_movement_generator\u001b[0m\u001b[0;34m(\u001b[0m\u001b[0mfish_list\u001b[0m\u001b[0;34m)\u001b[0m\u001b[0;34m\u001b[0m\u001b[0;34m\u001b[0m\u001b[0m\n\u001b[0m",
            "\u001b[0;32m<ipython-input-45-0ac6bec21e60>\u001b[0m in \u001b[0;36mshow_fish_movement_generator\u001b[0;34m(fish_list)\u001b[0m\n\u001b[1;32m     13\u001b[0m         \u001b[0;32mfor\u001b[0m \u001b[0mfish\u001b[0m \u001b[0;32min\u001b[0m \u001b[0mfish_list\u001b[0m\u001b[0;34m:\u001b[0m\u001b[0;34m\u001b[0m\u001b[0;34m\u001b[0m\u001b[0m\n\u001b[1;32m     14\u001b[0m             \u001b[0;32myield\u001b[0m \u001b[0mfish\u001b[0m\u001b[0;34m\u001b[0m\u001b[0;34m\u001b[0m\u001b[0m\n\u001b[0;32m---> 15\u001b[0;31m     \u001b[0mfish_movement_generator\u001b[0m\u001b[0;34m(\u001b[0m\u001b[0mfish_list\u001b[0m\u001b[0;34m)\u001b[0m\u001b[0;34m.\u001b[0m\u001b[0mmovement\u001b[0m\u001b[0;34m(\u001b[0m\u001b[0;34m)\u001b[0m\u001b[0;34m\u001b[0m\u001b[0;34m\u001b[0m\u001b[0m\n\u001b[0m\u001b[1;32m     16\u001b[0m \u001b[0;34m\u001b[0m\u001b[0m\n\u001b[1;32m     17\u001b[0m \u001b[0;34m\u001b[0m\u001b[0m\n",
            "\u001b[0;31mTypeError\u001b[0m: show_fish_movement_generator.<locals>.fish_movement_generator() takes 0 positional arguments but 1 was given"
          ]
        }
      ]
    },
    {
      "cell_type": "code",
      "source": [
        "# 물고기 리스트\n",
        "fish_list = [\n",
        "    Fish(\"Nemo\", 3),\n",
        "    Fish(\"Dory\", 5),\n",
        "    Fish(\"Marlin\", 7),\n",
        "    Fish(\"Bubbles\", 2),\n",
        "    Fish(\"Gill\", 4)\n",
        "]\n",
        "\n",
        "\n",
        "# 물고기들의 움직임 출력\n",
        "print(\"Using Comprehension:\")\n",
        "show_fish_movement_comprehension(fish_list)\n",
        "\n",
        "print(\"\\nUsing Iterator:\")\n",
        "show_fish_movement_iterator(fish_list)"
      ],
      "metadata": {
        "colab": {
          "base_uri": "https://localhost:8080/"
        },
        "id": "Bv74cNkckBzW",
        "outputId": "c3462f3e-25b3-48ab-b27d-923225443ec6"
      },
      "execution_count": null,
      "outputs": [
        {
          "output_type": "stream",
          "name": "stdout",
          "text": [
            "Using Comprehension:\n",
            "Nemo is swimming at 3 m/s\n",
            "Dory is swimming at 5 m/s\n",
            "Marlin is swimming at 7 m/s\n",
            "Bubbles is swimming at 2 m/s\n",
            "Gill is swimming at 4 m/s\n",
            "\n",
            "Using Iterator:\n",
            "Nemo is swimming at 3 m/s\n",
            "Dory is swimming at 5 m/s\n",
            "Marlin is swimming at 7 m/s\n",
            "Bubbles is swimming at 2 m/s\n",
            "Gill is swimming at 4 m/s\n"
          ]
        }
      ]
    }
  ]
}