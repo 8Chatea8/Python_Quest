{
  "nbformat": 4,
  "nbformat_minor": 0,
  "metadata": {
    "colab": {
      "provenance": [],
      "include_colab_link": true
    },
    "kernelspec": {
      "name": "python3",
      "display_name": "Python 3"
    },
    "language_info": {
      "name": "python"
    }
  },
  "cells": [
    {
      "cell_type": "markdown",
      "metadata": {
        "id": "view-in-github",
        "colab_type": "text"
      },
      "source": [
        "<a href=\"https://colab.research.google.com/github/parkmicheal1114/aiffel_cr4/blob/master/Quest2.ipynb\" target=\"_parent\"><img src=\"https://colab.research.google.com/assets/colab-badge.svg\" alt=\"Open In Colab\"/></a>"
      ]
    },
    {
      "cell_type": "markdown",
      "source": [
        "* 2차원 리스트란? : https://dojang.io/mod/page/view.php?id=2291\n",
        "\n",
        "다음은 ColabTurtle을 사용하여 미로를 찾는 문제다.\n",
        "조건을 확인하여 거북이가 미로를 헤매지 않도록 출구를 찾아주자!\n",
        "\n",
        "조건 :\n",
        "미로는 5x5의 2차원 리스트로 주어져 있다.\n",
        "\n",
        "시작 위치는 (0,0)이고 목적지 위치는 (4,4)이다.\n",
        "\n",
        "터틀은 상하좌우로 움직일 수 있다.\n",
        "\n",
        "미로 내에서 갈 수 있는 길은 0으로 표시되어 있다.\n",
        "\n",
        "터틀이 이미 지나간 길은 2로 표시해야한다.\n",
        "\n",
        "거북이가 미로를 찾아 나가면 \"미로를 찾았습니다.\", \n",
        "\n",
        "미로를 찾을 수 없으면 \"미로를 찾을 수 없습니다.\"가 나올 수 있도록 만들어보자!\n",
        "\n",
        "---\n",
        "입력값 :\n",
        "\n",
        "```\n",
        "# 5x5 2차원 미로 리스트\n",
        "maze = [\n",
        "    [0, 1, 0, 0, 0],\n",
        "    [0, 0, 0, 1, 0],\n",
        "    [0, 1, 1, 0, 0],\n",
        "    [0, 0, 1, 1, 0],\n",
        "    [0, 0, 0, 0, 0]\n",
        "]\n",
        "```\n",
        "\n",
        "출력값 :"
      ],
      "metadata": {
        "id": "fND7Y-Je9Ehp"
      }
    },
    {
      "cell_type": "code",
      "execution_count": 1,
      "metadata": {
        "colab": {
          "base_uri": "https://localhost:8080/"
        },
        "id": "DSn4R-G16H9E",
        "outputId": "48c0d773-a91b-4992-88ea-fca0fd056937"
      },
      "outputs": [
        {
          "output_type": "stream",
          "name": "stdout",
          "text": [
            "Looking in indexes: https://pypi.org/simple, https://us-python.pkg.dev/colab-wheels/public/simple/\n",
            "Collecting ColabTurtlePlus\n",
            "  Downloading ColabTurtlePlus-2.0.1-py3-none-any.whl (31 kB)\n",
            "Installing collected packages: ColabTurtlePlus\n",
            "Successfully installed ColabTurtlePlus-2.0.1\n"
          ]
        }
      ],
      "source": [
        "!pip install ColabTurtlePlus"
      ]
    },
    {
      "cell_type": "code",
      "source": [
        "from ColabTurtlePlus.Turtle import *"
      ],
      "metadata": {
        "id": "UQvOQ1Ym6YKZ",
        "colab": {
          "base_uri": "https://localhost:8080/"
        },
        "outputId": "9e7d2885-890b-42a2-c522-7cabf056b9cf"
      },
      "execution_count": 2,
      "outputs": [
        {
          "output_type": "stream",
          "name": "stdout",
          "text": [
            "Put clearscreen() as the first line in a cell (after the import command) to re-run turtle commands in the cell\n"
          ]
        }
      ]
    },
    {
      "cell_type": "code",
      "source": [
        "import pprint\n",
        "\n",
        "maze = [\n",
        "    [0, 1, 0, 0, 0],\n",
        "    [0, 0, 0, 1, 0],\n",
        "    [0, 1, 1, 0, 0],\n",
        "    [0, 0, 1, 1, 0],\n",
        "    [0, 0, 0, 0, 0]\n",
        "]\n",
        "\n",
        "turtles()\n",
        "setup(250, 250)\n",
        "clear()\n",
        "# goto(x, y)\n",
        "\n",
        "def solve_maze(x, y): \n",
        "  solved_maze = maze\n",
        "  while True:\n",
        "    if 0 <= y < 4 and solved_maze[x][y+1] == 0:\n",
        "      solved_maze[x][y] = 2\n",
        "      y += 1\n",
        "      forward(20)\n",
        "    elif 0 <= x < 4 and solved_maze[x+1][y] == 0:\n",
        "      solved_maze[x][y] = 2\n",
        "      x += 1\n",
        "      right(90)\n",
        "      forward(20)\n",
        "      left(90)\n",
        "    elif 0 < x < 4 and solved_maze[x-1][y] == 0:\n",
        "      solved_maze[x][y] = 2\n",
        "      x -= 1\n",
        "      left(90)\n",
        "      forward(20)\n",
        "      right(90)\n",
        "    elif 0 < y < 4 and solved_maze[x][y-1] == 0:\n",
        "      solved_maze[x][y] = 2\n",
        "      y -= 1\n",
        "      left(180)\n",
        "      forward(20)\n",
        "      right(180)\n",
        "    else:\n",
        "      print(\"미로를 찾을 수 없습니다\")\n",
        "    # pprint.pprint(solve_maze)\n",
        "    # print(x, y)\n",
        "\n",
        "    if x == 4 and y == 4:\n",
        "      solved_maze[x][y] = 2\n",
        "      print(\"미로를 찾았습니다\")\n",
        "      pprint.pprint(solved_maze)\n",
        "      break\n"
      ],
      "metadata": {
        "id": "0o0VtMN-7C2Z",
        "colab": {
          "base_uri": "https://localhost:8080/",
          "height": 271
        },
        "outputId": "7c26507b-59fd-41e6-b84a-412658a3a3e1"
      },
      "execution_count": 5,
      "outputs": [
        {
          "output_type": "display_data",
          "data": {
            "text/plain": [
              "<IPython.core.display.HTML object>"
            ],
            "text/html": [
              "\n",
              "      <svg width=\"250\" height=\"250\">  \n",
              "        <rect width=\"100%\" height=\"100%\" style=\"fill:white;stroke:;stroke-width:1\"/>\n",
              "        \n",
              "        \n",
              "        \n",
              "        \n",
              "        \n",
              "        <g id=\"classic\" visibility=\"visible\" transform=\"rotate(-90,125.0,125.0) translate(125.0, 125.0)\">\n",
              "<polygon points=\"-5,-4.5 0,-2.5 5,-4.5 0,4.5\" transform=\"skewX(0) scale(1,1)\" style=\"stroke:black;fill:black;stroke-width:1\" />\n",
              "</g>\n",
              "      </svg>\n",
              "    "
            ]
          },
          "metadata": {}
        }
      ]
    },
    {
      "cell_type": "code",
      "source": [
        "# 시작 위치에서 미로 찾기 시작\n",
        "start_x, start_y = 0, 0\n",
        "goto(start_x, start_y)\n",
        "solve_maze(start_x, start_y)"
      ],
      "metadata": {
        "colab": {
          "base_uri": "https://localhost:8080/",
          "height": 379
        },
        "id": "XMCm-ZFMQHrP",
        "outputId": "44f99ba7-8459-473a-e336-2bf805f2b8d5"
      },
      "execution_count": 6,
      "outputs": [
        {
          "output_type": "display_data",
          "data": {
            "text/plain": [
              "<IPython.core.display.HTML object>"
            ],
            "text/html": [
              "\n",
              "      <svg width=\"250\" height=\"250\">  \n",
              "        <rect width=\"100%\" height=\"100%\" style=\"fill:white;stroke:;stroke-width:1\"/>\n",
              "        \n",
              "        \n",
              "        <line x1=\"125.0\" y1=\"125.0\" x2=\"125.0\" y2=\"125.0\" stroke-linecap=\"round\" style=\"stroke:black;stroke-width:1\" /><line x1=\"125.0\" y1=\"125.0\" x2=\"125.0\" y2=\"145.0\" stroke-linecap=\"round\" style=\"stroke:black;stroke-width:1\" /><line x1=\"125.0\" y1=\"145.0\" x2=\"145.0\" y2=\"145.0\" stroke-linecap=\"round\" style=\"stroke:black;stroke-width:1\" /><line x1=\"145.0\" y1=\"145.0\" x2=\"165.0\" y2=\"145.0\" stroke-linecap=\"round\" style=\"stroke:black;stroke-width:1\" /><line x1=\"165.0\" y1=\"145.0\" x2=\"165.0\" y2=\"125.0\" stroke-linecap=\"round\" style=\"stroke:black;stroke-width:1\" /><line x1=\"165.0\" y1=\"125.0\" x2=\"185.0\" y2=\"125.0\" stroke-linecap=\"round\" style=\"stroke:black;stroke-width:1\" /><line x1=\"185.0\" y1=\"125.0\" x2=\"205.0\" y2=\"125.0\" stroke-linecap=\"round\" style=\"stroke:black;stroke-width:1\" /><line x1=\"205.0\" y1=\"125.0\" x2=\"205.0\" y2=\"145.0\" stroke-linecap=\"round\" style=\"stroke:black;stroke-width:1\" /><line x1=\"205.0\" y1=\"145.0\" x2=\"205.0\" y2=\"165.0\" stroke-linecap=\"round\" style=\"stroke:black;stroke-width:1\" /><line x1=\"205.0\" y1=\"165.0\" x2=\"205.0\" y2=\"185.0\" stroke-linecap=\"round\" style=\"stroke:black;stroke-width:1\" /><line x1=\"205.0\" y1=\"185.0\" x2=\"205.0\" y2=\"205.0\" stroke-linecap=\"round\" style=\"stroke:black;stroke-width:1\" />\n",
              "        \n",
              "        \n",
              "        <g id=\"classic\" visibility=\"visible\" transform=\"rotate(0,205.0,205.0) translate(205.0, 205.0)\">\n",
              "<polygon points=\"-5,-4.5 0,-2.5 5,-4.5 0,4.5\" transform=\"skewX(0) scale(1,1)\" style=\"stroke:black;fill:black;stroke-width:1\" />\n",
              "<animateTransform id = \"one\" attributeName=\"transform\" \n",
              "                      type=\"scale\"\n",
              "                      from=\"1 1\" to=\"1 1\"\n",
              "                      begin=\"0s\" dur=\"0.01s\"\n",
              "                      repeatCount=\"1\"\n",
              "                      additive=\"sum\"\n",
              "                      fill=\"freeze\"\n",
              "                /><animateTransform attributeName=\"transform\"\n",
              "                    type=\"rotate\"\n",
              "                    from=\"0 0 0\" to =\"-90 0 0\"\n",
              "                    begin=\"one.end\" dur=\"0.25s\"\n",
              "                    repeatCount=\"1\"\n",
              "                    additive=\"sum\"\n",
              "                    fill=\"freeze\"\n",
              "                /></g>\n",
              "      </svg>\n",
              "    "
            ]
          },
          "metadata": {}
        },
        {
          "output_type": "stream",
          "name": "stdout",
          "text": [
            "미로를 찾았습니다\n",
            "[[2, 1, 2, 2, 2],\n",
            " [2, 2, 2, 1, 2],\n",
            " [0, 1, 1, 0, 2],\n",
            " [0, 0, 1, 1, 2],\n",
            " [0, 0, 0, 0, 2]]\n"
          ]
        }
      ]
    },
    {
      "cell_type": "markdown",
      "source": [
        "# Code Peer Review Templete\n",
        "\n",
        "- 코더 : 차정은 , 김형우\n",
        "- 리뷰어 : 박기용\n",
        "\n",
        "---\n",
        "\n",
        "# PRT(PeerReviewTemplate)\n",
        "\n",
        "각 항목을 스스로 확인하고 체크하고 확인하여 작성한 코드에 적용하세요.\n",
        "\n",
        "- [v] 코드가 정상적으로 동작하고 주어진 문제를 해결했나요?\n",
        "- [v] 주석을 보고 작성자의 코드가 이해되었나요?\n",
        "- [v] 코드가 에러를 유발할 가능성이 있나요?\n",
        "- [v] 코드 작성자가 코드를 제대로 이해하고 작성했나요? (직접 인터뷰해보기)\n",
        "- [v] 코드가 간결한가요?\n",
        "\n",
        "---\n",
        "\n",
        "# 예시\n",
        "\n",
        "1. 코드의 작동 방식을 주석으로 기록합니다.\n",
        "\n",
        "2. 코드의 작동 방식에 대한 개선 방법을 주석으로 기록합니다.\n",
        "\n",
        "3. 참고한 링크 및 ChatGPT 프롬프트 명령어가 있다면 주석으로 남겨주세요.\n",
        "   \n",
        "```python\n",
        "import pprint\n",
        "\n",
        "maze = [\n",
        "    [0, 1, 0, 0, 0],\n",
        "    [0, 0, 0, 1, 0],\n",
        "    [0, 1, 1, 0, 0],\n",
        "    [0, 0, 1, 1, 0],\n",
        "    [0, 0, 0, 0, 0]\n",
        "]\n",
        "\n",
        "turtles()\n",
        "setup(250, 250)\n",
        "clear()\n",
        "# goto(x, y)\n",
        "\n",
        "# 미로 탈출 함수 \n",
        "def solve_maze(x, y): \n",
        "  solved_maze = maze\n",
        "  while True:\n",
        "    # 이동할 좌표의 가능 여부를 조건 여부로 이동함. \n",
        "    if 0 <= y < 4 and solved_maze[x][y+1] == 0:\n",
        "      solved_maze[x][y] = 2\n",
        "      y += 1\n",
        "      forward(20)\n",
        "    # 이동할 좌표의 가능 여부를 조건 여부로 이동함.( 항상 오른쪽 방향으로 이동)\n",
        "    elif 0 <= x < 4 and solved_maze[x+1][y] == 0:\n",
        "      solved_maze[x][y] = 2\n",
        "      x += 1\n",
        "      right(90)\n",
        "      forward(20)\n",
        "      left(90)\n",
        "    # 이동할 좌표의 가능 여부를 조건 여부로 이동함.( 항상 오른쪽 방향으로 이동)\n",
        "    elif 0 < x < 4 and solved_maze[x-1][y] == 0:\n",
        "      solved_maze[x][y] = 2\n",
        "      x -= 1\n",
        "      left(90)\n",
        "      forward(20)\n",
        "      right(90)\n",
        "    # 이동할 좌표의 가능 여부를 조건 여부로 이동함.( 항상 오른쪽 방향으로 이동)\n",
        "    elif 0 < y < 4 and solved_maze[x][y-1] == 0:\n",
        "      solved_maze[x][y] = 2\n",
        "      y -= 1\n",
        "      left(180)\n",
        "      forward(20)\n",
        "      right(180)\n",
        "    else:\n",
        "      print(\"미로를 찾을 수 없습니다\")\n",
        "    # pprint.pprint(solve_maze)\n",
        "    # print(x, y)\n",
        "\n",
        "    # 목적지를 조건문으로 지정.\n",
        "    if x == 4 and y == 4:\n",
        "      solved_maze[x][y] = 2\n",
        "      print(\"미로를 찾았습니다\")\n",
        "      pprint.pprint(solved_maze)\n",
        "      break\n",
        "   ```\n",
        "\n",
        "---\n",
        "\n",
        "# 참고 링크 및 코드 개선 여부\n",
        "\n",
        "```python\n",
        "# https://blog.naver.com/PostView.nhn?blogId=ytlee64&logNo=222104805578&parentCategoryNo=&categoryNo=37&viewDate=&isShowPopularPosts=true&from=search\n",
        "\n",
        "# 좋은 방법인 것 같습니다. 많이 배워갑니다.\n",
        "```"
      ],
      "metadata": {
        "id": "T1AGT_UYI2Dz"
      }
    }
  ]
}